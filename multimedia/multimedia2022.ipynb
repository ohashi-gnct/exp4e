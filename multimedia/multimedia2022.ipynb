{
  "nbformat": 4,
  "nbformat_minor": 0,
  "metadata": {
    "colab": {
      "name": "multimedia2022",
      "provenance": [],
      "collapsed_sections": [
        "HZ09nKrQKkbM",
        "M4sfaAhCkKl2"
      ],
      "mount_file_id": "1YhDD2ag_IbNIR34Cl6QUlMPtbh3Fywpn",
      "authorship_tag": "ABX9TyNKh8EWrL9fG9cqk35tEDCx",
      "include_colab_link": true
    },
    "kernelspec": {
      "display_name": "Python 3",
      "name": "python3"
    }
  },
  "cells": [
    {
      "cell_type": "markdown",
      "metadata": {
        "id": "view-in-github",
        "colab_type": "text"
      },
      "source": [
        "<a href=\"https://colab.research.google.com/github/ohashi-gnct/exp4e/blob/master/multimedia2022.ipynb\" target=\"_parent\"><img src=\"https://colab.research.google.com/assets/colab-badge.svg\" alt=\"Open In Colab\"/></a>"
      ]
    },
    {
      "cell_type": "markdown",
      "metadata": {
        "id": "1AzBTV3v3C46"
      },
      "source": [
        "まず、データを読み込むため自分のGoogleドライブをマウント"
      ]
    },
    {
      "cell_type": "code",
      "metadata": {
        "id": "m2B8gnq7v8fM"
      },
      "source": [
        "from google.colab import drive\n",
        "drive.mount('/content/drive')"
      ],
      "execution_count": null,
      "outputs": []
    },
    {
      "cell_type": "markdown",
      "metadata": {
        "id": "lf8ly-BKmirA"
      },
      "source": [
        "ドライブ直下にpngファイルを置くと、\n",
        "\n",
        "`/content/drive/MyDrive/hoge.png`と指定すればファイルが使える"
      ]
    },
    {
      "cell_type": "code",
      "metadata": {
        "id": "HsBF84Hlmr6U"
      },
      "source": [
        "import numpy as np\n",
        "import cv2\n",
        "from ipywidgets import interact\n",
        "import matplotlib.pyplot as plt\n",
        "\n",
        "import librosa\n",
        "import librosa.display\n",
        "import soundfile as sf\n",
        "from IPython.display import display, Audio"
      ],
      "execution_count": 11,
      "outputs": []
    },
    {
      "cell_type": "markdown",
      "metadata": {
        "id": "HbuZD9BFhi0K"
      },
      "source": [
        "## 0. 基礎知識\n",
        "\n"
      ]
    },
    {
      "cell_type": "markdown",
      "metadata": {
        "id": "LHD08rix3VS5"
      },
      "source": [
        "\n",
        "\n",
        "### 画像データのフーリエ解析\n",
        "\n"
      ]
    },
    {
      "cell_type": "markdown",
      "metadata": {
        "id": "384lykpMyOc2"
      },
      "source": [
        "まずは中身を見てみる\n",
        "\n",
        "`print()`すると、中身は`int`の配列になっていることがわかる\n",
        "\n",
        "matplotplibで画像として`show`してみる"
      ]
    },
    {
      "cell_type": "code",
      "metadata": {
        "id": "gJR8ZTcGLmzb"
      },
      "source": [
        "# グレースケールで画像を読み込み\n",
        "img = cv2.imread('/content/drive/MyDrive/lena_std.png',0)\n",
        "print(img)\n",
        "plt.gray()\n",
        "plt.imshow(img)           \n",
        "plt.show()"
      ],
      "execution_count": null,
      "outputs": []
    },
    {
      "cell_type": "markdown",
      "metadata": {
        "id": "4IgEndXHygt2"
      },
      "source": [
        "numpyの`numpy.fft.fft2()`でFFT（高速フーリエ変換）すると、\n",
        "\n",
        "画像の周波数スペクトルが表示される\n",
        "\n",
        "まんなかを中心として、離れるほど高周波"
      ]
    },
    {
      "cell_type": "code",
      "metadata": {
        "id": "_xANxmBCLu-M"
      },
      "source": [
        "img_fft = np.fft.fft2(img)\n",
        "fshift = np.fft.fftshift(img_fft)\n",
        "magnitude_spectrum = 20*np.log(np.abs(fshift))\n",
        "\n",
        "print(magnitude_spectrum)\n",
        "plt.gray()\n",
        "plt.imshow(magnitude_spectrum) \n",
        "plt.xticks([])\n",
        "plt.yticks([])          \n",
        "plt.show()"
      ],
      "execution_count": null,
      "outputs": []
    },
    {
      "cell_type": "markdown",
      "metadata": {
        "id": "5SwWLbHny7H-"
      },
      "source": [
        "FFTしたスペクトル`img_fft`をもとに、\n",
        "\n",
        "画像を再構成してみる\n",
        "\n",
        "もとの画像に戻った\n"
      ]
    },
    {
      "cell_type": "code",
      "metadata": {
        "id": "9W8dv6IjMwnP"
      },
      "source": [
        "ifimage = np.fft.ifft2(img_fft) \n",
        "ifimage = ifimage.real\n",
        "\n",
        "plt.imshow(ifimage)           \n",
        "plt.show()"
      ],
      "execution_count": null,
      "outputs": []
    },
    {
      "cell_type": "markdown",
      "metadata": {
        "id": "J5uVRXdJnRbw"
      },
      "source": [
        "### 音声データのフーリエ解析\n",
        "\n",
        "LibROSAにあるサンプル曲を読み込み、\n",
        "\n",
        "波形とスペクトログラム（周波数スペクトルの時間変化）を出す\n",
        "\n",
        "人間は高周波ほど小さな周波数の変化を認識できなくなるため、\n",
        "\n",
        "高周波ほど荒いメル尺度でスペクトログラムを表示する"
      ]
    },
    {
      "cell_type": "code",
      "metadata": {
        "id": "TVeN14qaXd1l"
      },
      "source": [
        "def show_spectrogram(y, sr):\n",
        "  S = librosa.feature.melspectrogram(y, sr=sr, n_mels=128)\n",
        "  log_S = librosa.power_to_db(S, ref=np.max)\n",
        "  plt.figure(figsize=(10, 4))\n",
        "  librosa.display.specshow(log_S, sr=sr, x_axis='time', y_axis='mel')\n",
        "  plt.title('mel power spectrogram')\n",
        "  plt.colorbar(format='%+02.0f dB')\n",
        "  plt.show()\n",
        "\n",
        "def show_wave_spectrogram_audio(y, sr):\n",
        "  fig, [ax_wave, ax_spectrogram] = plt.subplots(2, 1, figsize=(12, 10))\n",
        "  S = librosa.feature.melspectrogram(y, sr=sr, n_mels=128)\n",
        "  log_S = librosa.power_to_db(S, ref=np.max)\n",
        "  librosa.display.waveplot(y, sr=sr, x_axis='time', ax=ax_wave)\n",
        "  spectrogram = librosa.display.specshow(log_S, sr=sr, x_axis='time', y_axis='mel', ax=ax_spectrogram)\n",
        "  plt.show()\n",
        "  display(Audio(y, rate=sr))"
      ],
      "execution_count": null,
      "outputs": []
    },
    {
      "cell_type": "code",
      "metadata": {
        "id": "PmjhAJbrakcd"
      },
      "source": [
        "y, sr = librosa.load('/content/drive/MyDrive/famipop3.mp3', mono=True)\n",
        "\n",
        "show_wave_spectrogram_audio(y, sr)"
      ],
      "execution_count": null,
      "outputs": []
    },
    {
      "cell_type": "markdown",
      "metadata": {
        "id": "NNqWIB_Nn438"
      },
      "source": [
        "## 1. 画像の周波数領域フィルタ（必須課題）\n",
        "\n",
        "先ほどのスペクトルを見てみると、2次元になっている\n",
        "\n",
        "\n"
      ]
    },
    {
      "cell_type": "markdown",
      "metadata": {
        "id": "agNjmfeaz5Qy"
      },
      "source": [
        "\n",
        "周波数と聞くと1次元のイメージだが、\n",
        "\n",
        "なぜ2次元で表示されているのだろう？\n",
        "\n",
        "さまざまな画像を入力し、スペクトルの出かたを比べてほしい\n",
        "\n",
        "http://www.ess.ic.kanagawa-it.ac.jp/app_images_j.html より画像引用\n"
      ]
    },
    {
      "cell_type": "code",
      "metadata": {
        "id": "zXCqdFJtz44N"
      },
      "source": [
        "def calc_spectrum(img):\n",
        "  img_fft = np.fft.fft2(img)\n",
        "  fshift = np.fft.fftshift(img_fft)\n",
        "  return 20*np.log(np.abs(fshift))\n",
        "\n",
        "# ここのファイル名を変える\n",
        "img1 = cv2.imread('/content/drive/MyDrive/lena_std.png',0)\n",
        "img2 = cv2.imread('/content/drive/MyDrive/Fishing-Boat.png',0)\n",
        "img3 = cv2.imread('/content/drive/MyDrive/Pixel-ruler.png',0)\n",
        "\n",
        "\n",
        "fig, [[ax1, ax2, ax3], [ax1_fft, ax2_fft, ax3_fft]] = plt.subplots(2, 3, figsize=(15, 8))\n",
        "\n",
        "ax1.imshow(img1)\n",
        "ax1_fft.imshow(calc_spectrum(img1))\n",
        "ax1_fft.set_xticks([])\n",
        "ax1_fft.set_yticks([])\n",
        "\n",
        "ax2.imshow(img2)\n",
        "ax2_fft.imshow(calc_spectrum(img2))\n",
        "ax2_fft.set_xticks([])\n",
        "ax2_fft.set_yticks([])\n",
        "\n",
        "ax3.imshow(img3)\n",
        "ax3_fft.imshow(calc_spectrum(img3))\n",
        "ax3_fft.set_xticks([])\n",
        "ax3_fft.set_yticks([])\n",
        "\n",
        "plt.show()"
      ],
      "execution_count": null,
      "outputs": []
    },
    {
      "cell_type": "markdown",
      "metadata": {
        "id": "wiuqi6GwzYUY"
      },
      "source": [
        "**↑の図を3.1の結果として授業中に提出**\n",
        "\n",
        "スペクトルに対して操作を行うことで、周波数領域から画像を処理できる。\n",
        "\n",
        "ローパスフィルターをかけてみる。\n",
        "\n",
        "スペクトルの中心部だけ残すようにスペクトルをマスクすると、\n",
        "\n",
        "ローパスフィルターとして機能する\n",
        "\n",
        "再構成した画像は、帽子などの輪郭のまわりに波のような模様が出てしまった\n",
        "\n",
        "この波は何だろうか？"
      ]
    },
    {
      "cell_type": "markdown",
      "metadata": {
        "id": "Ft5DnGmO0hw7"
      },
      "source": [
        "\n",
        "\n",
        "低周波の領域だけで再構成しても、\n",
        "\n",
        "画像の（見た目の）特徴をある程度残しているように見える\n",
        "\n",
        "→高周波の情報を減らすことで、見た目をそのままに\n",
        "\n",
        "画像のデータ量を減らすことができる？"
      ]
    },
    {
      "cell_type": "code",
      "metadata": {
        "id": "Z8MZtkzZSGKi"
      },
      "source": [
        "# ここのRを大きくすればするほど、高周波まで通す\n",
        "def mask_to_fshift(fshift, R):\n",
        "  size = fshift.shape\n",
        "  mask = np.zeros(size)\n",
        "  length = size[0]\n",
        "  centery = size[0]/2\n",
        "  for x in range(0,length):\n",
        "    for y in range(0,length):\n",
        "      if (x- centery)**2 +(y- centery)**2 <R**2:\n",
        "        mask[x,y]=1\n",
        "  return fshift*mask\n",
        "\n",
        "plt.gray()\n",
        "\n",
        "def LPF(R=30):\n",
        "  fig, [ax_fft, ax_image] = plt.subplots(1, 2, figsize=(12, 8))\n",
        "  fshift_mask = mask_to_fshift(fshift.copy(), R)\n",
        "  magnitude_spectrum = 20*np.log(np.abs(fshift_mask))\n",
        "  ax_fft.imshow(magnitude_spectrum)\n",
        "  ax_fft.set_xticks([])\n",
        "  ax_fft.set_yticks([])\n",
        "\n",
        "  fft_mask = np.fft.fftshift(fshift_mask) \n",
        "  ax_image.imshow(np.fft.ifft2(fft_mask).real)\n",
        "  plt.show()\n",
        "\n",
        "interact(LPF, R=(0, 300))"
      ],
      "execution_count": null,
      "outputs": []
    },
    {
      "cell_type": "markdown",
      "metadata": {
        "id": "FnU_UY061HEi"
      },
      "source": [
        "## 2. 画像の空間領域フィルタと周波数（必須課題）\n",
        "\n",
        "2年生の実験で画像のフィルタリングを学習した。\n",
        "\n",
        "画像に対して、例えば5x5のフィルタを畳み込む\n",
        "\n",
        "画像の平滑化フィルタとして、\n",
        "\n",
        "移動平均フィルタ`kernel_movingaverage`と、\n",
        "\n",
        "ガウシアンフィルタ`kernel_gaussian`を用意した。\n",
        "\n",
        "見た目ではどのように変化したか？"
      ]
    },
    {
      "cell_type": "code",
      "metadata": {
        "id": "zOLMXYqQTkka"
      },
      "source": [
        "# 5x5 のフィルタを使っている。好きなフィルタに変えてみてもよい\n",
        "kernel_original = np.array([[0, 0, 0, 0, 0],\n",
        "                            [0, 0, 0, 0, 0],\n",
        "                            [0, 0, 1, 0, 0],\n",
        "                            [0, 0, 0, 0, 0],\n",
        "                            [0, 0, 0, 0, 0]])\n",
        "\n",
        "kernel_movingaverage = np.array([[1, 1, 1, 1, 1],\n",
        "                                 [1, 1, 1, 1, 1],\n",
        "                                 [1, 1, 1, 1, 1],\n",
        "                                 [1, 1, 1, 1, 1],\n",
        "                                 [1, 1, 1, 1, 1]]) / 25\n",
        "\n",
        "kernel_gaussian = np.array([[1,  4,  6,  4, 1],\n",
        "                            [4, 16, 24, 16, 4],\n",
        "                            [6, 24, 36, 24, 6],\n",
        "                            [4, 16, 24, 16, 4],\n",
        "                            [1,  4,  6,  4, 1]]) / 256\n",
        "\n",
        "fig, [ax_img_original, ax_img_movingaverage, ax_img_gaussian] = plt.subplots(1, 3, figsize=(15, 8))\n",
        "\n",
        "img = cv2.imread('/content/drive/MyDrive/lena_std.png',0)\n",
        "\n",
        "img_original = cv2.filter2D(img, -1, kernel_original)\n",
        "ax_img_original.imshow(img_original)\n",
        "ax_img_original.set_title(\"Original\")\n",
        "\n",
        "img_movingaverage = cv2.filter2D(img, -1, kernel_movingaverage)\n",
        "ax_img_movingaverage.imshow(img_movingaverage)\n",
        "ax_img_movingaverage.set_title(\"Moving Average\")\n",
        "\n",
        "img_gaussian = cv2.filter2D(img, -1, kernel_gaussian)\n",
        "ax_img_gaussian.imshow(img_gaussian)\n",
        "ax_img_gaussian.set_title(\"Gaussian\")\n",
        "\n",
        "plt.show()"
      ],
      "execution_count": null,
      "outputs": []
    },
    {
      "cell_type": "markdown",
      "metadata": {
        "id": "cQWohkve1zg0"
      },
      "source": [
        "#### 移動平均フィルタ\n",
        "\n",
        "フィルタを3x3, 5x5, 7x7…と大きくしてアニメーションを作成する\n",
        "\n",
        "フィルタが大きいほど平滑化の効果は強くなる\n",
        "\n",
        "周波数領域で見ると、どんな役割をしているか？\n",
        "\n"
      ]
    },
    {
      "cell_type": "code",
      "metadata": {
        "id": "34Fdui3489ok"
      },
      "source": [
        "def show_spectrum(img):\n",
        "  img_fft = np.fft.fft2(img)\n",
        "  fshift = np.fft.fftshift(img_fft)\n",
        "  return 20*np.log(np.abs(fshift))\n",
        "  ax_fft.set_xticks([])\n",
        "  ax_fft.set_yticks([])"
      ],
      "execution_count": 23,
      "outputs": []
    },
    {
      "cell_type": "code",
      "metadata": {
        "id": "wY0oMYBpZe5J"
      },
      "source": [
        "def movingaverage(i=5):\n",
        "  fig, [ax_fft, ax_image] = plt.subplots(1, 2, figsize=(12, 8))\n",
        "  img_movingaverage = cv2.blur(img, (i, i))\n",
        "  ax_image.imshow(img_movingaverage)   \n",
        "  ax_fft.imshow(show_spectrum(img_movingaverage))\n",
        "\n",
        "interact(movingaverage, i=(1, 49, 2))"
      ],
      "execution_count": null,
      "outputs": []
    },
    {
      "cell_type": "markdown",
      "metadata": {
        "id": "2IPh21EX23GG"
      },
      "source": [
        "#### ガウシアンフィルタ\n",
        "\n",
        "ガウシアンフィルタでは、周りの画素を一律に平均するのではなく、\n",
        "\n",
        "注目している画素の近くに重み付けしてある\n",
        "\n",
        "$$ f(x, y)=\\frac{1}{2\\pi\\sigma^2} \\exp({-\\frac{x^2+y^2}{2\\sigma^2}})$$\n",
        "\n",
        "フィルタを3x3, 5x5, 7x7…と大きくし、それに合わせて標準偏差 $ \\sigma $ を大きくする\n",
        "\n",
        "標準偏差が大きいほど平滑化の効果は強くなる\n",
        "\n",
        "周波数領域で見ると、どんな役割をしているか？"
      ]
    },
    {
      "cell_type": "code",
      "metadata": {
        "id": "KGF6ajyPp7fP"
      },
      "source": [
        "def gaussian(i=5):\n",
        "  fig, [ax_fft, ax_image] = plt.subplots(1, 2, figsize=(12, 8))\n",
        "  img_gaussian = cv2.GaussianBlur(img, (i, i), i/2)\n",
        "  ax_image.imshow(img_gaussian)   \n",
        "  ax_fft.imshow(show_spectrum(img_gaussian))\n",
        "\n",
        "interact(gaussian, i=(1, 49, 2))"
      ],
      "execution_count": null,
      "outputs": []
    },
    {
      "cell_type": "markdown",
      "metadata": {
        "id": "ZXTVhgOQDEuP"
      },
      "source": [
        "**↑の図を3.2の結果として授業中に提出**\n",
        "\n",
        "ぼかしのかけ方は適当に調節したほうがよい\n"
      ]
    },
    {
      "cell_type": "markdown",
      "metadata": {
        "id": "STqN8OxwqPJj"
      },
      "source": [
        "## 3. 音声の周波数領域フィルタ（必須課題）\n",
        "\n",
        "高周波ノイズが加えられた音声を用意する\n",
        "\n",
        "ノイズの入った音声のスペクトログラムを見ると、\n",
        "\n",
        "高周波に強いエネルギーがある"
      ]
    },
    {
      "cell_type": "code",
      "metadata": {
        "id": "8RZ7Q8K2QKy1"
      },
      "source": [
        "# ここのファイル名を変える。自分で高周波ノイズ入りの音声を作っても良い\n",
        "y_voice, sr_voice = librosa.load('/content/drive/MyDrive/voice_with_noise_100.wav')\n",
        "show_wave_spectrogram_audio(y_voice, sr_voice)"
      ],
      "execution_count": null,
      "outputs": []
    },
    {
      "cell_type": "markdown",
      "metadata": {
        "id": "522-W3Dgbwlu"
      },
      "source": [
        "FFTを行い、ある周波数以上をカットすると、ノイズがなくなった"
      ]
    },
    {
      "cell_type": "code",
      "metadata": {
        "id": "SF2s67UuSRjs"
      },
      "source": [
        "n_fft = 2048\n",
        "D = librosa.stft(y_voice, n_fft=n_fft)\n",
        "print(D.shape)\n",
        "# ここの96を変えると、どの周波数まで通すかが変わる\n",
        "# この数値はFFTした配列の話であって、Hzではない。\n",
        "D[96:] = 0\n",
        "y_voice_lowpass = librosa.istft(D)\n",
        "show_wave_spectrogram_audio(y_voice_lowpass, sr_voice)"
      ],
      "execution_count": null,
      "outputs": []
    },
    {
      "cell_type": "markdown",
      "metadata": {
        "id": "MVcKe_I4b1ZN"
      },
      "source": [
        "次は音楽を使ってみる\n",
        "\n",
        "まずは読み込み"
      ]
    },
    {
      "cell_type": "code",
      "metadata": {
        "id": "s2L-4Hudb9QC"
      },
      "source": [
        "# ここのファイル名を好きな音楽に変える。mono=Trueでモノラルになる\n",
        "y_tropical, sr_tropical = librosa.load('/content/drive/MyDrive/famipop3.mp3', mono=True)\n",
        "print(y_tropical.shape)\n",
        "print(sr_tropical)\n",
        "# 曲が長すぎるので適当に切り出す\n",
        "# サンプリングレートが44100Hzであれば、1秒間に44100サンプルあるということになる\n",
        "y_tropical = y_tropical[:500000]\n",
        "show_wave_spectrogram_audio(y_tropical, sr_tropical)"
      ],
      "execution_count": null,
      "outputs": []
    },
    {
      "cell_type": "markdown",
      "metadata": {
        "id": "56RI1yEOdybm"
      },
      "source": [
        "ローパスフィルターやハイパスフィルターを試す\n",
        "\n",
        "聴覚上の変化はどうなる？スペクトログラム上では？"
      ]
    },
    {
      "cell_type": "code",
      "metadata": {
        "id": "16gbQdfOYgz6"
      },
      "source": [
        "n_fft = 2048\n",
        "D = librosa.stft(y_tropical, n_fft=n_fft)\n",
        "flag = 0\n",
        "freq_pass = 10\n",
        "\n",
        "# このフィルタは自由に変えて良い\n",
        "# ハイパスとローパスを交互にかけると面白いかなと思ってこうしてあるだけ\n",
        "for i in range(len(D[0])):\n",
        "  if flag == 0:\n",
        "    D[int(freq_pass):, i] = 0\n",
        "    freq_pass *= 1.00 + (i * 0.0001)\n",
        "    if freq_pass > 10000:\n",
        "      flag = 1\n",
        "      freq_pass = 20\n",
        "  elif flag == 1:\n",
        "    D[:int(freq_pass), i] = 0\n",
        "    freq_pass *= 1.00 + (i * 0.0001)\n",
        "    if freq_pass > 2000:\n",
        "      flag = 0\n",
        "      freq_pass = 20\n",
        "\n",
        "y_tropical_lowpass = librosa.istft(D)\n",
        "show_wave_spectrogram_audio(y_tropical_lowpass, sr_tropical)"
      ],
      "execution_count": null,
      "outputs": []
    },
    {
      "cell_type": "markdown",
      "metadata": {
        "id": "WqHJgls_DVq9"
      },
      "source": [
        "**↑の波形を3.3の結果として授業中に提出**\n",
        "\n",
        "フィルタは適当に用意したものなので、\n",
        "\n",
        "自分の気に入る形のフィルタを作って提出すること\n",
        "\n",
        "もちろん、ただのローパスフィルタでもよい\n",
        "\n",
        "↓フィルタの例"
      ]
    },
    {
      "cell_type": "code",
      "metadata": {
        "id": "mbtqQ1m4bcs8"
      },
      "source": [
        "n_fft = 2048\n",
        "D = librosa.stft(y_tropical, n_fft=n_fft)\n",
        "D[96:] = 0\n",
        "\n",
        "y_tropical_lowpass = librosa.istft(D)\n",
        "show_wave_spectrogram_audio(y_tropical_lowpass, sr_tropical)"
      ],
      "execution_count": null,
      "outputs": []
    },
    {
      "cell_type": "markdown",
      "metadata": {
        "id": "R-YEk58miu5G"
      },
      "source": [
        "## 4. 音声の時間領域フィルタと周波数（発展課題）"
      ]
    },
    {
      "cell_type": "markdown",
      "metadata": {
        "id": "mqUTqNhJuxSc"
      },
      "source": [
        "$ n $ 点の平均をとるような移動平均フィルタを設計し、\n",
        "\n",
        "音楽に畳み込む\n",
        "\n",
        "聞こえ方はどう変化するか？周波数上ではどうか？"
      ]
    },
    {
      "cell_type": "code",
      "metadata": {
        "id": "xRe9raIQx0oK"
      },
      "source": [
        "# nを変えるとフィルタの長さが変わる\n",
        "# とうぜん長いほど平滑化の効果は大きい\n",
        "n = 30\n",
        "filter_movingaverage = np.ones(n)/n\n",
        "plt.plot(filter_movingaverage)\n",
        "plt.xlim(0, n-1) \n",
        "plt.ylim(0, 0.1)\n",
        "plt.show()"
      ],
      "execution_count": null,
      "outputs": []
    },
    {
      "cell_type": "code",
      "metadata": {
        "id": "ddgpG-i7uwye"
      },
      "source": [
        "y_tropical_filtered = np.convolve(y_tropical, filter_movingaverage)\n",
        "show_wave_spectrogram_audio(y_tropical_filtered, sr_tropical)"
      ],
      "execution_count": null,
      "outputs": []
    },
    {
      "cell_type": "markdown",
      "metadata": {
        "id": "qhFPHkQTw32l"
      },
      "source": [
        "今度は\n",
        "$ A\\exp{-t/\\tau} $\n",
        "の形で減衰する\n",
        "\n",
        "指数平滑フィルタを設計し、畳み込む\n",
        "\n",
        "移動平均フィルタと違いはあるか？"
      ]
    },
    {
      "cell_type": "code",
      "metadata": {
        "id": "kWjhUrwCyAwW"
      },
      "source": [
        "# nを変えるとフィルタの長さが変わる\n",
        "n = 30\n",
        "filter_exp = np.exp(-np.arange(n)/(n/3))\n",
        "filter_exp /= np.sum(filter_exp)\n",
        "plt.plot(filter_exp)\n",
        "plt.xlim(0, n-1)\n",
        "plt.ylim(0, 0.1)\n",
        "plt.show()"
      ],
      "execution_count": null,
      "outputs": []
    },
    {
      "cell_type": "code",
      "metadata": {
        "id": "50P3FJXTfxj8"
      },
      "source": [
        "y_tropical_filtered = np.convolve(y_tropical, filter_exp)\n",
        "show_wave_spectrogram_audio(y_tropical_filtered, sr_tropical)"
      ],
      "execution_count": null,
      "outputs": []
    },
    {
      "cell_type": "markdown",
      "metadata": {
        "id": "3KtDVQXSjoUD"
      },
      "source": [
        "## 5. サンプリングと波形の復元（発展課題）\n",
        "\n",
        "まず、正弦波を荒くサンプリングする"
      ]
    },
    {
      "cell_type": "code",
      "metadata": {
        "id": "3hSJLll_7eRb"
      },
      "source": [
        "# 周期あたり何点サンプリングするか。ここが2未満だとどうなるか？\n",
        "sampling_per_period = 5\n",
        "\n",
        "sampling_period = int(100 / sampling_per_period)\n",
        "x = np.linspace(0, 3, 301)\n",
        "y = np.cos(x*np.pi*2)\n",
        "x_sampling = x[::sampling_period]\n",
        "y_sampling = y[::sampling_period]\n",
        "print(y_sampling)\n",
        "plt.plot(x, y)\n",
        "plt.scatter(x_sampling, y_sampling)\n",
        "plt.legend()\n",
        "plt.show()"
      ],
      "execution_count": null,
      "outputs": []
    },
    {
      "cell_type": "markdown",
      "metadata": {
        "id": "6K_mztRx9F68"
      },
      "source": [
        "サンプリングした点だけ出すと"
      ]
    },
    {
      "cell_type": "code",
      "metadata": {
        "id": "L6ty_7QC9FqH"
      },
      "source": [
        "plt.scatter(x_sampling, y_sampling)"
      ],
      "execution_count": null,
      "outputs": []
    },
    {
      "cell_type": "markdown",
      "metadata": {
        "id": "w1kKzMss9Ovc"
      },
      "source": [
        "これらの点をパルス列とみなして\n",
        "\n",
        "sinc関数 $ \\mathrm{sinc}(x) = \\sin{x}/x $ を畳み込むことで、\n",
        "\n",
        "波形の復元ができる\n",
        "\n",
        "sinc関数はこんな形の関数\n"
      ]
    },
    {
      "cell_type": "code",
      "metadata": {
        "id": "BxzA40pyBAzX"
      },
      "source": [
        "x_temp = np.linspace(-6, 6, 1201)\n",
        "plt.plot(x_temp, np.sinc(x_temp))"
      ],
      "execution_count": null,
      "outputs": []
    },
    {
      "cell_type": "markdown",
      "metadata": {
        "id": "0K4jgIISBBCW"
      },
      "source": [
        "sinc関数を畳み込む\n",
        "\n",
        "よく見ると、サンプリングした点は1つのsinc関数を除いて\n",
        "\n",
        "すべて値が0になっている\n",
        "\n",
        "サンプリングした点どうしを滑らかにつなぐような\n",
        "\n",
        "線になっていることがわかる"
      ]
    },
    {
      "cell_type": "code",
      "metadata": {
        "id": "YG1Af-Ry9bZ5"
      },
      "source": [
        "sincs = []\n",
        "\n",
        "for y_temp, x_temp in zip(y_sampling, x_sampling):\n",
        "  sincs.append(y_temp * np.sinc(100 / sampling_period * (x_temp - x)))\n",
        "\n",
        "for sinc in sincs:\n",
        "  plt.plot(x, sinc, color = \"green\")\n",
        "\n",
        "sum_sinc = sum(sincs)\n",
        "plt.plot(x, sum_sinc, color=\"blue\", lw=3)\n",
        "\n",
        "plt.scatter(x_sampling, y_sampling, color=\"red\")"
      ],
      "execution_count": null,
      "outputs": []
    },
    {
      "cell_type": "markdown",
      "metadata": {
        "id": "9cFyZe1E-5dy"
      },
      "source": [
        "1周期あたりのサンプル数や、初期位相を変えて\n",
        "\n",
        "波形の復元を試してみる。\n",
        "\n",
        "とくに、1周期のサンプル数を2点未満にするとどうか？"
      ]
    }
  ]
}