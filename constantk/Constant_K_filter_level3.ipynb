{
  "nbformat": 4,
  "nbformat_minor": 0,
  "metadata": {
    "colab": {
      "name": "Constant-K filter (level 3)",
      "provenance": [],
      "collapsed_sections": [],
      "authorship_tag": "ABX9TyMB6V0knAhLwk4A6HAqac/0",
      "include_colab_link": true
    },
    "kernelspec": {
      "name": "python3",
      "display_name": "Python 3"
    },
    "language_info": {
      "name": "python"
    }
  },
  "cells": [
    {
      "cell_type": "markdown",
      "metadata": {
        "id": "view-in-github",
        "colab_type": "text"
      },
      "source": [
        "<a href=\"https://colab.research.google.com/github/ohashi-gnct/exp4e/blob/master/Constant_K_filter_(level_3).ipynb\" target=\"_parent\"><img src=\"https://colab.research.google.com/assets/colab-badge.svg\" alt=\"Open In Colab\"/></a>"
      ]
    },
    {
      "cell_type": "code",
      "metadata": {
        "id": "KS8D5txT9Wvl"
      },
      "source": [
        "import numpy as np\n",
        "import matplotlib.pyplot as plt\n",
        "from scipy.optimize import newton\n",
        "\n",
        "plt.rcParams['xtick.direction'] = 'in'\n",
        "plt.rcParams['ytick.direction'] = 'in'\n",
        "plt.rcParams['figure.dpi'] = 120"
      ],
      "execution_count": null,
      "outputs": []
    },
    {
      "cell_type": "markdown",
      "metadata": {
        "id": "EI__g8WMEK7M"
      },
      "source": [
        "LPFでの $ V_{out} $ の理論式は、\n",
        "\n",
        "The theoretical equation for $ V_{out} $ in LPF is as follows:\n",
        "\n",
        "$ V_{out} = V_o \\frac{1}{2-\\omega^2 CL+j\\omega\\left(\\frac{L}{R}+CR\\right)} $\n",
        "\n",
        "HPFでの $ V_{out} $ の理論式は、\n",
        "\n",
        "$ V_{out} $ in HPF is as follows:\n",
        "\n",
        "$ V_{out} = V_o \\frac{\\omega^2 CL}{(2\\omega^2 CL-1)-j\\omega\\left(\\frac{L}{R}+CR\\right)} $\n",
        "\n",
        "今回は $ V_o = 1$ とする。\n",
        "\n",
        "In this experiment, we use $ V_o = 1$.\n",
        "\n",
        "これらは複素数になるが、`np.abs()`関数で絶対値をとることができる\n",
        "\n",
        "$ V_{out} $ will be complex numbers.\n",
        "\n",
        "We can obtain absolute values of $ V_{out} $ with `np.abs()`."
      ]
    },
    {
      "cell_type": "code",
      "metadata": {
        "id": "q30nm9JpBZsb"
      },
      "source": [
        "# ローパスフィルタのV_outを求める関数\n",
        "def LPF_Vout(R, L, C, f):\n",
        "  return() # returnに入る数式を自分で考える\n",
        "\n",
        "# ハイパスフィルタのV_outを求める関数\n",
        "def HPF_Vout(R, L, C, f):\n",
        "  return() # returnに入る数式を自分で考える"
      ],
      "execution_count": null,
      "outputs": []
    },
    {
      "cell_type": "markdown",
      "metadata": {
        "id": "FVRo_i5hJEHN"
      },
      "source": [
        "## LPF"
      ]
    },
    {
      "cell_type": "code",
      "metadata": {
        "id": "xC3weTz6-C9H"
      },
      "source": [
        "R = 600\n",
        "L = 0.6366\n",
        "C = 0.00000177\n",
        "cutoff = # カットオフ周波数での電圧。ここの式は自分で考える\n",
        "\n",
        "f_seq = # 周波数の数列をつくる。np.linspace()やnp.logspace()が使いやすい\n",
        "i_seq = list(range(len(f_seq)))\n",
        "VoutLPF_seq = np.zeros(len(f_seq))\n",
        "\n",
        "for i, f in zip(i_seq, f_seq):\n",
        "  VoutLPF_seq[i] = LPF_Vout(R, L, C, f)\n",
        "\n",
        "plt.plot(f_seq, VoutLPF_seq)\n",
        "plt.axhline(cutoff, c='gray')\n",
        "plt.xscale(\"log\")\n",
        "plt.xlabel(\"frequency(Hz)\")\n",
        "plt.ylabel(\"Voltage(V)\")\n",
        "plt.show()\n",
        "\n",
        "# ニュートン法でカットオフ周波数を求める\n",
        "cutoff_LPF = newton(lambda f: LPF_Vout(R, L, C, f) - cutoff, x0=200)\n",
        "print(\"カットオフ周波数: {}Hz\".format(cutoff_LPF))"
      ],
      "execution_count": null,
      "outputs": []
    },
    {
      "cell_type": "markdown",
      "metadata": {
        "id": "EgemGZbDJGQ5"
      },
      "source": [
        "## HPF"
      ]
    },
    {
      "cell_type": "code",
      "metadata": {
        "id": "OBUYwlE4_2ci"
      },
      "source": [
        "R = 600\n",
        "L = 0.6366\n",
        "C = 0.00000177\n",
        "\n",
        "VoutHPF_seq = np.zeros(len(f_seq))\n",
        "\n",
        "# 以下のプログラムは自分で考える"
      ],
      "execution_count": null,
      "outputs": []
    }
  ]
}