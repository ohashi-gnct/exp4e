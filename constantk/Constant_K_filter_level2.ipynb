{
  "nbformat": 4,
  "nbformat_minor": 0,
  "metadata": {
    "colab": {
      "name": "Constant-K filter (level 2)",
      "provenance": [],
      "collapsed_sections": []
    },
    "kernelspec": {
      "name": "python3",
      "display_name": "Python 3"
    },
    "language_info": {
      "name": "python"
    }
  },
  "cells": [
    {
      "cell_type": "code",
      "metadata": {
        "id": "KS8D5txT9Wvl"
      },
      "source": [
        "import numpy as np\n",
        "import matplotlib.pyplot as plt\n",
        "from scipy.optimize import newton\n",
        "\n",
        "plt.rcParams['xtick.direction'] = 'in'\n",
        "plt.rcParams['ytick.direction'] = 'in'\n",
        "plt.rcParams['figure.dpi'] = 120"
      ],
      "execution_count": 2,
      "outputs": []
    },
    {
      "cell_type": "markdown",
      "metadata": {
        "id": "EI__g8WMEK7M"
      },
      "source": [
        "LPFでの $ V_{out} $ の理論式は、\n",
        "\n",
        "The theoretical equation for $ V_{out} $ in LPF is as follows:\n",
        "\n",
        "$ V_{out} = V_o \\frac{1}{2-\\omega^2 CL+j\\omega\\left(\\frac{L}{R}+CR\\right)} $\n",
        "\n",
        "HPFでの $ V_{out} $ の理論式は、\n",
        "\n",
        "$ V_{out} $ in HPF is as follows:\n",
        "\n",
        "$ V_{out} = V_o \\frac{\\omega^2 CL}{(2\\omega^2 CL-1)-j\\omega\\left(\\frac{L}{R}+CR\\right)} $\n",
        "\n",
        "今回は $ V_o = 1$ とする。\n",
        "\n",
        "In this experiment, we use $ V_o = 1$.\n",
        "\n",
        "これらは複素数になるが、`np.abs()`関数で絶対値をとることができる\n",
        "\n",
        "$ V_{out} $ will be complex numbers.\n",
        "\n",
        "We can obtain absolute values of $ V_{out} $ with the `np.abs()`.\n"
      ]
    },
    {
      "cell_type": "code",
      "metadata": {
        "id": "q30nm9JpBZsb"
      },
      "source": [
        "# ローパスフィルタのV_outの振幅（絶対値）を求める関数\n",
        "def LPF_Vout(R, L, C, f):\n",
        "  omega = 2 * np.pi * f\n",
        "  return() # returnに入る数式を自分で考える\n",
        "\n",
        "# ハイパスフィルタのV_outの振幅（絶対値）を求める関数\n",
        "def HPF_Vout(R, L, C, f):\n",
        "  omega = 2 * np.pi * f\n",
        "  return() # returnに入る数式を自分で考える\n",
        "\n",
        "def myplot(f, Vout, cutoff):\n",
        "  plt.plot(f, Vout)\n",
        "  plt.axhline(cutoff, c='gray')\n",
        "  plt.xscale(\"log\")\n",
        "  plt.xlabel(\"frequency(Hz)\")\n",
        "  plt.ylabel(\"Voltage(V)\")\n",
        "  plt.show()"
      ],
      "execution_count": 9,
      "outputs": []
    },
    {
      "cell_type": "markdown",
      "metadata": {
        "id": "FVRo_i5hJEHN"
      },
      "source": [
        "## LPF\n",
        "\n",
        "カットオフ周波数では電圧が通過域の $ 1/\\sqrt{2} $ 倍となる\n",
        "\n",
        "At the cutoff frequency, the voltage is $ 1/\\sqrt{2} $ times than the passband's."
      ]
    },
    {
      "cell_type": "code",
      "metadata": {
        "id": "xC3weTz6-C9H"
      },
      "source": [
        "R = 600\n",
        "L = 0.6366\n",
        "C = 0.00000177\n",
        "cutoff = # カットオフ周波数での電圧。ここの式は自分で考える\n",
        "\n",
        "f = np.logspace(np.log10(10), np.log10(1500), 200)\n",
        "Vout = LPF_Vout(R, L, C, f)\n",
        "myplot(f, Vout, cutoff)\n",
        "\n",
        "# ニュートン法でカットオフ周波数を求める\n",
        "cutoff_LPF = newton(lambda f: LPF_Vout(R, L, C, f) - cutoff, x0=200)\n",
        "print(\"Cutoff frequency: {}Hz\".format(cutoff_LPF))"
      ],
      "execution_count": null,
      "outputs": []
    },
    {
      "cell_type": "markdown",
      "metadata": {
        "id": "EgemGZbDJGQ5"
      },
      "source": [
        "## HPF"
      ]
    },
    {
      "cell_type": "code",
      "metadata": {
        "id": "OBUYwlE4_2ci"
      },
      "source": [
        "L = 0.3188\n",
        "C = 0.0000008842\n",
        "\n",
        "Vout = HPF_Vout(R, L, C, f)\n",
        "myplot(f, Vout, cutoff)\n",
        "\n",
        "cutoff_HPF = newton(lambda f: HPF_Vout(R, L, C, f) - cutoff, x0=100)\n",
        "print(\"Cutoff frequency: {}Hz\".format(cutoff_HPF))"
      ],
      "execution_count": null,
      "outputs": []
    }
  ]
}