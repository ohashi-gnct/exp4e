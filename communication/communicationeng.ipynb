{
  "nbformat": 4,
  "nbformat_minor": 0,
  "metadata": {
    "colab": {
      "name": "通信工学（変調） （レベル2）",
      "provenance": [],
      "collapsed_sections": [],
      "authorship_tag": "ABX9TyMICvvrmXyG35Ceh2eh20vK",
      "include_colab_link": true
    },
    "kernelspec": {
      "name": "python3",
      "display_name": "Python 3"
    },
    "language_info": {
      "name": "python"
    }
  },
  "cells": [
    {
      "cell_type": "markdown",
      "metadata": {
        "id": "view-in-github",
        "colab_type": "text"
      },
      "source": [
        "<a href=\"https://colab.research.google.com/github/ohashi-gnct/exp4e/blob/master/%E9%80%9A%E4%BF%A1%E5%B7%A5%E5%AD%A6%EF%BC%88%E5%A4%89%E8%AA%BF%EF%BC%89_%EF%BC%88%E3%83%AC%E3%83%99%E3%83%AB2%EF%BC%89.ipynb\" target=\"_parent\"><img src=\"https://colab.research.google.com/assets/colab-badge.svg\" alt=\"Open In Colab\"/></a>"
      ]
    },
    {
      "cell_type": "code",
      "metadata": {
        "id": "Cgd7pIhS7RFB"
      },
      "source": [
        "import numpy as np\n",
        "import matplotlib.pyplot as plt\n",
        "from ipywidgets import interact\n",
        " \n",
        "plt.rcParams['xtick.direction'] = 'in'\n",
        "plt.rcParams['ytick.direction'] = 'in'\n",
        "plt.rcParams['figure.dpi'] = 120"
      ],
      "execution_count": null,
      "outputs": []
    },
    {
      "cell_type": "markdown",
      "metadata": {
        "id": "STu6n0KcDpG6"
      },
      "source": [
        "## プロット関数\n",
        "\n",
        "`np.fft.fft()`によって波形を離散フーリエ変換し、\n",
        "\n",
        "その結果をプロットする"
      ]
    },
    {
      "cell_type": "code",
      "metadata": {
        "id": "qAaN-zMe_vt6"
      },
      "source": [
        "def myplot(wave, fft_range=11):\n",
        "  fig, [ax1, ax2] = plt.subplots(1, 2, figsize=(12, 4))\n",
        "  ax1.plot(wave)\n",
        "  N = len(wave)\n",
        "  F = np.abs(np.fft.fft(wave)) / (N / 2)\n",
        "  ax2.plot(F[:fft_range], marker='.', linestyle='None')"
      ],
      "execution_count": null,
      "outputs": []
    },
    {
      "cell_type": "markdown",
      "metadata": {
        "id": "fgX9bTKhDjCK"
      },
      "source": [
        "## 時間波形とフーリエ変換\n",
        "\n",
        "freqのスライダーを動かすと、波形の周波数を変更できる\n",
        "\n",
        "\n",
        "\n",
        "$ f(i\\Delta t)=\\cos{(2\\pi i/N)}$"
      ]
    },
    {
      "cell_type": "code",
      "metadata": {
        "id": "7V7eojL_7jR1"
      },
      "source": [
        "N = 256\n",
        "i = np.arange(N)\n",
        "\n",
        "def mycos(freq = 1):\n",
        "  wave = # cos波の式を考える。円周率はnp.pi、cosはnp.cos()が使える\n",
        "  myplot(wave)\n",
        "\n",
        "interact(mycos, freq=(1, 10))"
      ],
      "execution_count": null,
      "outputs": []
    },
    {
      "cell_type": "markdown",
      "metadata": {
        "id": "u2nJdYX2D74T"
      },
      "source": [
        "## AM変調\n",
        "\n",
        "$V_{AM}(i\\Delta t)=\\left(1+m_a \\cos{(2\\pi ip/N)}\\right)\\cos{(2\\pi i/N)}$"
      ]
    },
    {
      "cell_type": "code",
      "metadata": {
        "id": "wnVIq6j79TIc"
      },
      "source": [
        "def V_AM(m = 0.5, p = 2):\n",
        "  wave = # AM変調の式を考える\n",
        "  myplot(wave)\n",
        "\n",
        "interact(V_AM, m=(0, 1.), p = (0, 10))"
      ],
      "execution_count": null,
      "outputs": []
    },
    {
      "cell_type": "markdown",
      "metadata": {
        "id": "Euy1DXRqD_ED"
      },
      "source": [
        "## FM変調\n",
        "\n",
        "$V_{FM}(i\\Delta t)=\\cos{(2\\pi i/N+\\beta \\sin{(2\\pi ip/N)})}$"
      ]
    },
    {
      "cell_type": "code",
      "metadata": {
        "id": "wCFybL3N_GF_"
      },
      "source": [
        "def V_FM(beta = 0.5, p = 2):\n",
        "  wave = # FM変調の式を考える\n",
        "  myplot(wave)\n",
        "\n",
        "interact(V_FM, beta=(0, 1.), p = (0, 10))"
      ],
      "execution_count": null,
      "outputs": []
    }
  ]
}