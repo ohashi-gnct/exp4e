{
  "nbformat": 4,
  "nbformat_minor": 0,
  "metadata": {
    "colab": {
      "name": "communicationeng",
      "provenance": [],
      "collapsed_sections": []
    },
    "kernelspec": {
      "name": "python3",
      "display_name": "Python 3"
    },
    "language_info": {
      "name": "python"
    }
  },
  "cells": [
    {
      "cell_type": "code",
      "metadata": {
        "id": "Cgd7pIhS7RFB"
      },
      "source": [
        "import numpy as np\n",
        "import matplotlib.pyplot as plt\n",
        "from ipywidgets import interact\n",
        " \n",
        "plt.rcParams['xtick.direction'] = 'in'\n",
        "plt.rcParams['ytick.direction'] = 'in'\n",
        "plt.rcParams['figure.dpi'] = 120"
      ],
      "execution_count": null,
      "outputs": []
    },
    {
      "cell_type": "markdown",
      "metadata": {
        "id": "STu6n0KcDpG6"
      },
      "source": [
        "## プロット関数\n",
        "\n",
        "`np.fft.fft()`によって波形を離散フーリエ変換し、\n",
        "\n",
        "その結果をプロットする"
      ]
    },
    {
      "cell_type": "code",
      "metadata": {
        "id": "qAaN-zMe_vt6"
      },
      "source": [
        "def myplot(wave, fft_range=11):\n",
        "  fig, [ax1, ax2] = plt.subplots(1, 2, figsize=(12, 4))\n",
        "  ax1.plot(wave)\n",
        "  N = len(wave)\n",
        "  F = np.abs(np.fft.fft(wave)) / (N / 2)\n",
        "  ax2.plot(F[:fft_range], marker='.', linestyle='None')"
      ],
      "execution_count": null,
      "outputs": []
    },
    {
      "cell_type": "markdown",
      "metadata": {
        "id": "fgX9bTKhDjCK"
      },
      "source": [
        "## 時間波形とフーリエ変換\n",
        "\n",
        "freqのスライダーを動かすと、波形の周波数を変更できる\n",
        "\n",
        "\n",
        "\n",
        "$ f(i\\Delta t)=\\cos{(2\\pi if/N)}$"
      ]
    },
    {
      "cell_type": "code",
      "metadata": {
        "id": "7V7eojL_7jR1"
      },
      "source": [
        "N = 256\n",
        "i = np.arange(N)\n",
        "\n",
        "def mycos(f = 1): # f = 1は、スライダーの初期値を決めている\n",
        "  wave = # cos波の式を考える。円周率はnp.pi、cosはnp.cos()が使える\n",
        "  myplot(wave)\n",
        "\n",
        "interact(mycos, f=(1, 10)) # 第2引数以降はスライダーの範囲を決めている"
      ],
      "execution_count": null,
      "outputs": []
    },
    {
      "cell_type": "markdown",
      "metadata": {
        "id": "u2nJdYX2D74T"
      },
      "source": [
        "## AM変調\n",
        "\n",
        "$V_{AM}(i\\Delta t)=\\left(1+m_a \\cos{(2\\pi if_s/N)}\\right)\\cos{(2\\pi i f_c/N)}$"
      ]
    },
    {
      "cell_type": "code",
      "metadata": {
        "id": "wnVIq6j79TIc"
      },
      "source": [
        "def V_AM(m = 0.5, fs = 2):\n",
        "  fc = 10\n",
        "  wave = # AM変調の式を考える\n",
        "  myplot(wave, fft_range = 20)\n",
        "\n",
        "interact(V_AM, m=(0, 1.), fs = (0, 5))"
      ],
      "execution_count": null,
      "outputs": []
    },
    {
      "cell_type": "markdown",
      "metadata": {
        "id": "Euy1DXRqD_ED"
      },
      "source": [
        "## FM変調\n",
        "\n",
        "$V_{FM}(i\\Delta t)=\\cos{(2\\pi if_c/N+\\beta \\sin{(2\\pi ipf_s/N)})}$"
      ]
    },
    {
      "cell_type": "code",
      "metadata": {
        "id": "wCFybL3N_GF_"
      },
      "source": [
        "def V_FM(beta = 0.5, fs = 2):\n",
        "  fc = 10\n",
        "  wave = # FM変調の式を考える\n",
        "  myplot(wave, fft_range = 20)\n",
        "\n",
        "interact(V_FM, beta=(0, 1.), fs = (0, 5))"
      ],
      "execution_count": null,
      "outputs": []
    }
  ]
}